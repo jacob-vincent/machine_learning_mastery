{
 "cells": [
  {
   "cell_type": "markdown",
   "metadata": {},
   "source": [
    "# Pima Indians Diabetes Tutorial\n",
    "Feaured in Jason Brownlee's *Machine Learning Mastery* blog [here](https://machinelearningmastery.com/tutorial-first-neural-network-python-keras/)"
   ]
  },
  {
   "cell_type": "code",
   "execution_count": 1,
   "metadata": {},
   "outputs": [
    {
     "name": "stderr",
     "output_type": "stream",
     "text": [
      "Using TensorFlow backend.\n"
     ]
    }
   ],
   "source": [
    "import os\n",
    "os.environ['TF_CPP_MIN_LOG_LEVEL'] = '3'  # or any {'0', '1', '2'}\n",
    "import tensorflow as tf\n",
    "import numpy as np\n",
    "import h5py\n",
    "from keras.models import load_model\n",
    "from sklearn import metrics\n",
    "import matplotlib.pyplot as plt"
   ]
  },
  {
   "cell_type": "code",
   "execution_count": 2,
   "metadata": {},
   "outputs": [],
   "source": [
    "# Load test set\n",
    "X_test = np.loadtxt('X_test.csv', delimiter = ',')\n",
    "y_test = np.loadtxt('y_test.csv', delimiter = ',')"
   ]
  },
  {
   "cell_type": "code",
   "execution_count": 3,
   "metadata": {},
   "outputs": [],
   "source": [
    "# Load model\n",
    "model = load_model('model_2.h5')"
   ]
  },
  {
   "cell_type": "code",
   "execution_count": 4,
   "metadata": {},
   "outputs": [],
   "source": [
    "# Predict on new data\n",
    "predictions = model.predict(X_test)\n",
    "rounded = [round(x[0], 2) for x in predictions]\n",
    "#print(rounded)\n",
    "\n",
    "# Compare predicted vs. known results\n",
    "#print(y_test.shape)\n",
    "rounds = np.asarray(rounded)\n",
    "comps = np.vstack((y_test,rounds))\n",
    "#print(comps.shape)\n",
    "#for i in range(comps.shape[1]):\n",
    "    #print(comps[:,i])"
   ]
  },
  {
   "cell_type": "code",
   "execution_count": 6,
   "metadata": {},
   "outputs": [
    {
     "name": "stdout",
     "output_type": "stream",
     "text": [
      "Please input an evaluation threshold: 0.25\n"
     ]
    }
   ],
   "source": [
    "# Build confusion matrix\n",
    "threshold = float(input('Please input an evaluation threshold: '))\n",
    "def create_confusion_matrix(results):\n",
    "    tp = 0\n",
    "    fp = 0\n",
    "    tn = 0\n",
    "    fn = 0\n",
    "\n",
    "    for item in range(results.shape[1]):\n",
    "        actual = results[0,item]\n",
    "        predicted = results[1,item]\n",
    "        if actual == 1 and predicted >= threshold:\n",
    "            tp += 1\n",
    "        elif actual == 0 and predicted >= threshold:\n",
    "            fp += 1\n",
    "        elif actual == 1 and predicted < threshold:\n",
    "            fn += 1\n",
    "        elif actual == 0 and predicted < threshold:\n",
    "            tn += 1\n",
    "\n",
    "    cm = np.array(([tp, fp], [fn, tn]))\n",
    "    return cm"
   ]
  },
  {
   "cell_type": "code",
   "execution_count": 7,
   "metadata": {},
   "outputs": [],
   "source": [
    "# Compute model metrics\n",
    "def model_metrics(mat):\n",
    "    tp = float(mat[0,0])\n",
    "    fp = float(mat[0,1])\n",
    "    fn = float(mat[1,0])\n",
    "    tn = float(mat[1,1])\n",
    "\n",
    "    recall = round(tp/(tp+fn), 3)\n",
    "    precision = round(tp / (tp + fp), 3)\n",
    "    specificity = round(tn / (fp + tn), 3)\n",
    "    accuracy = round((tp + tn) / (tp + fp +fn + tn), 3)\n",
    "\n",
    "    print(\"Recall = {}\".format(recall))\n",
    "    print(\"Precision = {}\".format(precision))\n",
    "    print(\"Specificity = {}\".format(specificity))\n",
    "    print(\"Accuracy = {}\".format(accuracy))"
   ]
  },
  {
   "cell_type": "code",
   "execution_count": 8,
   "metadata": {},
   "outputs": [],
   "source": [
    "# Plot Receiever - Operator Characteristic Curve\n",
    "def plot_roc_curve(target, scored):\n",
    "    y = target\n",
    "    scores = scored\n",
    "    fpr, tpr, thresholds = metrics.roc_curve(y, scores, pos_label=1)\n",
    "    roc_auc = metrics.roc_auc_score(y, scores)\n",
    "    plt.figure()\n",
    "    lw = 2\n",
    "    plt.plot(fpr, tpr, color='darkorange',\n",
    "             lw=lw, label='ROC curve (area = %0.2f)' % roc_auc)\n",
    "    plt.plot([0, 1], [0, 1], color='navy', lw=lw, linestyle='--')\n",
    "    plt.xlim([0.0, 1.0])\n",
    "    plt.ylim([0.0, 1.05])\n",
    "    plt.xlabel('False Positive Rate')\n",
    "    plt.ylabel('True Positive Rate')\n",
    "    plt.title('Receiver operating characteristic example')\n",
    "    plt.legend(loc=\"lower right\")\n",
    "    plt.show()"
   ]
  },
  {
   "cell_type": "code",
   "execution_count": 9,
   "metadata": {},
   "outputs": [],
   "source": [
    "# Plot Precision - Recall Curve\n",
    "def plot_precision_recall_curve(trues, probs):\n",
    "    y = trues\n",
    "    scores = probs\n",
    "    precision, recall, thresholds = metrics.precision_recall_curve(y, scores, pos_label = 1)\n",
    "    average_precision = metrics.average_precision_score(y, scores)\n",
    "    plt.step(recall, precision, color='b', alpha=0.2,\n",
    "             where='post')\n",
    "    plt.fill_between(recall, precision, step='post', alpha=0.2,\n",
    "                     color='b')\n",
    "\n",
    "    plt.xlabel('Recall')\n",
    "    plt.ylabel('Precision')\n",
    "    plt.ylim([0.0, 1.05])\n",
    "    plt.xlim([0.0, 1.0])\n",
    "    plt.title('2-class Precision-Recall curve: AUC = {0:0.2f}'.format(average_precision))\n",
    "    plt.show()"
   ]
  },
  {
   "cell_type": "code",
   "execution_count": 10,
   "metadata": {},
   "outputs": [
    {
     "name": "stdout",
     "output_type": "stream",
     "text": [
      "Confusion Matrix\n",
      "[[31 35]\n",
      " [ 9 41]]\n",
      "Recall = 0.775\n",
      "Precision = 0.47\n",
      "Specificity = 0.539\n",
      "Accuracy = 0.621\n"
     ]
    },
    {
     "data": {
      "image/png": "[encoded data removed]",
      "text/plain": [
       "<matplotlib.figure.Figure at 0x1a14f509b0>"
      ]
     },
     "metadata": {},
     "output_type": "display_data"
    },
    {
     "data": {
      "image/png": "[encoded data removed]",
      "text/plain": [
       "<matplotlib.figure.Figure at 0x1a1a60d8d0>"
      ]
     },
     "metadata": {},
     "output_type": "display_data"
    }
   ],
   "source": [
    "con_mat = create_confusion_matrix(comps)\n",
    "print(\"Confusion Matrix\")\n",
    "print(con_mat)\n",
    "model_metrics(con_mat)\n",
    "plot_roc_curve(y_test, rounded)\n",
    "plot_precision_recall_curve(y_test, rounded)"
   ]
  },
  {
   "cell_type": "code",
   "execution_count": null,
   "metadata": {},
   "outputs": [],
   "source": []
  }
 ],
 "metadata": {
  "kernelspec": {
   "display_name": "Python 3",
   "language": "python",
   "name": "python3"
  },
  "language_info": {
   "codemirror_mode": {
    "name": "ipython",
    "version": 3
   },
   "file_extension": ".py",
   "mimetype": "text/x-python",
   "name": "python",
   "nbconvert_exporter": "python",
   "pygments_lexer": "ipython3",
   "version": "3.6.3"
  }
 },
 "nbformat": 4,
 "nbformat_minor": 2
}
