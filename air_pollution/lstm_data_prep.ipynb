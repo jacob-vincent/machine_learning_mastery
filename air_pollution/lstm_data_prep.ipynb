{
 "cells": [
  {
   "cell_type": "markdown",
   "metadata": {},
   "source": [
    "# Air Pollution Tutorial\n",
    "Featured on Jason Brownlee's *Machine Learning Mastery* blog [here](https://machinelearningmastery.com/multivariate-time-series-forecasting-lstms-keras/)"
   ]
  },
  {
   "cell_type": "code",
   "execution_count": 1,
   "metadata": {},
   "outputs": [
    {
     "data": {
      "application/javascript": [
       "if (!(\"Notification\" in window)) {\n",
       "    alert(\"This browser does not support desktop notifications, so the %%notify magic will not work.\");\n",
       "} else if (Notification.permission !== 'granted' && Notification.permission !== 'denied') {\n",
       "    Notification.requestPermission(function (permission) {\n",
       "        if(!('permission' in Notification)) {\n",
       "            Notification.permission = permission;\n",
       "        }\n",
       "    })\n",
       "}\n"
      ],
      "text/plain": [
       "<IPython.core.display.Javascript object>"
      ]
     },
     "metadata": {},
     "output_type": "display_data"
    }
   ],
   "source": [
    "%load_ext jupyternotify"
   ]
  },
  {
   "cell_type": "code",
   "execution_count": 2,
   "metadata": {},
   "outputs": [],
   "source": [
    "# Silence TensorFlow warnings\n",
    "import os\n",
    "os.environ['TF_CPP_MIN_LOG_LEVEL'] = '3'  # or any in {'0', '1', '2'}\n",
    "import tensorflow as tf\n"
   ]
  },
  {
   "cell_type": "code",
   "execution_count": 3,
   "metadata": {},
   "outputs": [
    {
     "name": "stderr",
     "output_type": "stream",
     "text": [
      "Using TensorFlow backend.\n"
     ]
    }
   ],
   "source": [
    "from math import sqrt\n",
    "from numpy import concatenate\n",
    "from matplotlib import pyplot\n",
    "from pandas import read_csv, DataFrame, concat\n",
    "from sklearn.preprocessing import MinMaxScaler, LabelEncoder\n",
    "from sklearn.metrics import mean_squared_error\n",
    "from keras.models import Sequential\n",
    "from keras.layers import Dense, LSTM"
   ]
  },
  {
   "cell_type": "code",
   "execution_count": 4,
   "metadata": {},
   "outputs": [],
   "source": [
    "# convert series to supervised learning\n",
    "def series_to_supervised(data, n_in=1, n_out=1, dropnan=True):\n",
    "    n_vars = 1 if type(data) is list else data.shape[1]\n",
    "    df = DataFrame(data)\n",
    "    cols, names = list(), list()\n",
    "    # input sequence (t-n, ... t-1)\n",
    "    for i in range(n_in, 0, -1):\n",
    "        cols.append(df.shift(i))\n",
    "        names += [('var%d(t-%d)' % (j + 1, i)) for j in range(n_vars)]\n",
    "    # forecast sequence (t, t+1, ... t+n)\n",
    "    for i in range(0, n_out):\n",
    "        cols.append(df.shift(-i))\n",
    "        if i == 0:\n",
    "            names += [('var%d(t)' % (j + 1)) for j in range(n_vars)]\n",
    "        else:\n",
    "            names += [('var%d(t+%d)' % (j + 1, i)) for j in range(n_vars)]\n",
    "    # put it all together\n",
    "    agg = concat(cols, axis=1)\n",
    "    agg.columns = names\n",
    "    # drop rows with NaN values\n",
    "    if dropnan:\n",
    "        agg.dropna(inplace=True)\n",
    "    return agg\n"
   ]
  },
  {
   "cell_type": "code",
   "execution_count": 5,
   "metadata": {},
   "outputs": [
    {
     "name": "stdout",
     "output_type": "stream",
     "text": [
      "total 8920\n",
      "drwxr-xr-x  11 jvincen7  MS\\Domain Users   352B Mar  1 10:43 .\n",
      "drwxr-xr-x  11 jvincen7  MS\\Domain Users   352B Mar  1 10:12 ..\n",
      "drwxr-xr-x   3 jvincen7  MS\\Domain Users    96B Mar  1 10:31 .ipynb_checkpoints\n",
      "-rw-r--r--   1 jvincen7  MS\\Domain Users   1.9K Mar  1 10:29 csv_builder.ipynb\n",
      "-rw-r--r--   1 jvincen7  MS\\Domain Users   676B Mar  1 10:08 csv_builder.py\n",
      "-rw-r--r--   1 jvincen7  MS\\Domain Users   149K Mar  1 10:29 data_eda.ipynb\n",
      "-rw-r--r--   1 jvincen7  MS\\Domain Users   470B Feb  8  2018 data_eda.py\n",
      "-rw-r--r--   1 jvincen7  MS\\Domain Users    37K Mar  1 10:43 lstm_data_prep.ipynb\n",
      "-rw-r--r--   1 jvincen7  MS\\Domain Users   3.4K Jun  6  2018 lstm_data_prep.py\n",
      "-rw-r--r--   1 jvincen7  MS\\Domain Users   2.2M Mar  1 10:08 pollution.csv\n",
      "-rw-r--r--   1 jvincen7  MS\\Domain Users   1.9M Feb  8  2018 raw.csv\n"
     ]
    }
   ],
   "source": [
    "%%bash\n",
    "ls -alh"
   ]
  },
  {
   "cell_type": "code",
   "execution_count": 6,
   "metadata": {},
   "outputs": [],
   "source": [
    "# load dataset\n",
    "# os.chdir('../')\n",
    "dataset = read_csv('./pollution.csv', header=0, index_col=0)\n",
    "values = dataset.values\n"
   ]
  },
  {
   "cell_type": "code",
   "execution_count": 7,
   "metadata": {},
   "outputs": [],
   "source": [
    "# integer encode direction\n",
    "encoder = LabelEncoder()\n",
    "values[:,4] = encoder.fit_transform(values[:,4])"
   ]
  },
  {
   "cell_type": "code",
   "execution_count": 8,
   "metadata": {},
   "outputs": [
    {
     "data": {
      "text/html": [
       "<div>\n",
       "<style scoped>\n",
       "    .dataframe tbody tr th:only-of-type {\n",
       "        vertical-align: middle;\n",
       "    }\n",
       "\n",
       "    .dataframe tbody tr th {\n",
       "        vertical-align: top;\n",
       "    }\n",
       "\n",
       "    .dataframe thead th {\n",
       "        text-align: right;\n",
       "    }\n",
       "</style>\n",
       "<table border=\"1\" class=\"dataframe\">\n",
       "  <thead>\n",
       "    <tr style=\"text-align: right;\">\n",
       "      <th></th>\n",
       "      <th>var1(t-1)</th>\n",
       "      <th>var2(t-1)</th>\n",
       "      <th>var3(t-1)</th>\n",
       "      <th>var4(t-1)</th>\n",
       "      <th>var5(t-1)</th>\n",
       "      <th>var6(t-1)</th>\n",
       "      <th>var7(t-1)</th>\n",
       "      <th>var8(t-1)</th>\n",
       "      <th>var1(t)</th>\n",
       "    </tr>\n",
       "  </thead>\n",
       "  <tbody>\n",
       "    <tr>\n",
       "      <th>1</th>\n",
       "      <td>0.129779</td>\n",
       "      <td>0.352941</td>\n",
       "      <td>0.245902</td>\n",
       "      <td>0.527273</td>\n",
       "      <td>0.666667</td>\n",
       "      <td>0.002290</td>\n",
       "      <td>0.000000</td>\n",
       "      <td>0.0</td>\n",
       "      <td>0.148893</td>\n",
       "    </tr>\n",
       "    <tr>\n",
       "      <th>2</th>\n",
       "      <td>0.148893</td>\n",
       "      <td>0.367647</td>\n",
       "      <td>0.245902</td>\n",
       "      <td>0.527273</td>\n",
       "      <td>0.666667</td>\n",
       "      <td>0.003811</td>\n",
       "      <td>0.000000</td>\n",
       "      <td>0.0</td>\n",
       "      <td>0.159960</td>\n",
       "    </tr>\n",
       "    <tr>\n",
       "      <th>3</th>\n",
       "      <td>0.159960</td>\n",
       "      <td>0.426471</td>\n",
       "      <td>0.229508</td>\n",
       "      <td>0.545454</td>\n",
       "      <td>0.666667</td>\n",
       "      <td>0.005332</td>\n",
       "      <td>0.000000</td>\n",
       "      <td>0.0</td>\n",
       "      <td>0.182093</td>\n",
       "    </tr>\n",
       "    <tr>\n",
       "      <th>4</th>\n",
       "      <td>0.182093</td>\n",
       "      <td>0.485294</td>\n",
       "      <td>0.229508</td>\n",
       "      <td>0.563637</td>\n",
       "      <td>0.666667</td>\n",
       "      <td>0.008391</td>\n",
       "      <td>0.037037</td>\n",
       "      <td>0.0</td>\n",
       "      <td>0.138833</td>\n",
       "    </tr>\n",
       "    <tr>\n",
       "      <th>5</th>\n",
       "      <td>0.138833</td>\n",
       "      <td>0.485294</td>\n",
       "      <td>0.229508</td>\n",
       "      <td>0.563637</td>\n",
       "      <td>0.666667</td>\n",
       "      <td>0.009912</td>\n",
       "      <td>0.074074</td>\n",
       "      <td>0.0</td>\n",
       "      <td>0.109658</td>\n",
       "    </tr>\n",
       "  </tbody>\n",
       "</table>\n",
       "</div>"
      ],
      "text/plain": [
       "   var1(t-1)  var2(t-1)  var3(t-1)  var4(t-1)  var5(t-1)  var6(t-1)  \\\n",
       "1   0.129779   0.352941   0.245902   0.527273   0.666667   0.002290   \n",
       "2   0.148893   0.367647   0.245902   0.527273   0.666667   0.003811   \n",
       "3   0.159960   0.426471   0.229508   0.545454   0.666667   0.005332   \n",
       "4   0.182093   0.485294   0.229508   0.563637   0.666667   0.008391   \n",
       "5   0.138833   0.485294   0.229508   0.563637   0.666667   0.009912   \n",
       "\n",
       "   var7(t-1)  var8(t-1)   var1(t)  \n",
       "1   0.000000        0.0  0.148893  \n",
       "2   0.000000        0.0  0.159960  \n",
       "3   0.000000        0.0  0.182093  \n",
       "4   0.037037        0.0  0.138833  \n",
       "5   0.074074        0.0  0.109658  "
      ]
     },
     "execution_count": 8,
     "metadata": {},
     "output_type": "execute_result"
    }
   ],
   "source": [
    "# ensure all data is float\n",
    "values = values.astype('float32')\n",
    "\n",
    "# normalize features\n",
    "scaler = MinMaxScaler(feature_range=(0, 1))\n",
    "scaled = scaler.fit_transform(values)\n",
    "\n",
    "# frame as supervised learning\n",
    "reframed = series_to_supervised(scaled, 1, 1)\n",
    "\n",
    "# drop columns we don't want to predict\n",
    "reframed.drop(reframed.columns[[9,10,11,12,13,14,15]], axis=1, inplace=True)\n",
    "\n",
    "reframed.head()\n"
   ]
  },
  {
   "cell_type": "code",
   "execution_count": 9,
   "metadata": {},
   "outputs": [
    {
     "name": "stdout",
     "output_type": "stream",
     "text": [
      "(26280, 1, 8) (26280,) (17519, 1, 8) (17519,)\n"
     ]
    }
   ],
   "source": [
    "# split into train and test sets\n",
    "# Using n_train_hours, we are only training on the first 3 years of data (365*24*3), and evaluating on the other 1\n",
    "values = reframed.values\n",
    "n_train_hours = 365 * 24 * 3\n",
    "train = values[:n_train_hours, :]\n",
    "test = values[n_train_hours:, :]\n",
    "\n",
    "# split into input and outputs\n",
    "train_X, train_y = train[:, :-1], train[:, -1]\n",
    "test_X, test_y = test[:, :-1], test[:, -1]\n",
    "\n",
    "# reshape input to be 3D [samples, timesteps, features]\n",
    "train_X = train_X.reshape((train_X.shape[0], 1, train_X.shape[1]))\n",
    "test_X = test_X.reshape((test_X.shape[0], 1, test_X.shape[1]))\n",
    "\n",
    "print(train_X.shape, train_y.shape, test_X.shape, test_y.shape)\n"
   ]
  },
  {
   "cell_type": "code",
   "execution_count": 11,
   "metadata": {},
   "outputs": [
    {
     "name": "stdout",
     "output_type": "stream",
     "text": [
      "Train on 26280 samples, validate on 17519 samples\n",
      "Epoch 1/50\n",
      "26280/26280 [==============================] - 3s 122us/step - loss: 0.0420 - val_loss: 0.0608\n",
      "Epoch 2/50\n",
      "26280/26280 [==============================] - 4s 134us/step - loss: 0.0181 - val_loss: 0.0294\n",
      "Epoch 3/50\n",
      "26280/26280 [==============================] - 4s 139us/step - loss: 0.0151 - val_loss: 0.0192\n",
      "Epoch 4/50\n",
      "26280/26280 [==============================] - 3s 104us/step - loss: 0.0140 - val_loss: 0.0149\n",
      "Epoch 5/50\n",
      "26280/26280 [==============================] - 3s 125us/step - loss: 0.0138 - val_loss: 0.0154\n",
      "Epoch 6/50\n",
      "26280/26280 [==============================] - 3s 110us/step - loss: 0.0138 - val_loss: 0.0156\n",
      "Epoch 7/50\n",
      "26280/26280 [==============================] - 2s 89us/step - loss: 0.0138 - val_loss: 0.0157\n",
      "Epoch 8/50\n",
      "26280/26280 [==============================] - 2s 90us/step - loss: 0.0138 - val_loss: 0.0157\n",
      "Epoch 9/50\n",
      "26280/26280 [==============================] - 2s 91us/step - loss: 0.0139 - val_loss: 0.0155\n",
      "Epoch 10/50\n",
      "26280/26280 [==============================] - 2s 91us/step - loss: 0.0137 - val_loss: 0.0152\n",
      "Epoch 11/50\n",
      "26280/26280 [==============================] - 3s 122us/step - loss: 0.0138 - val_loss: 0.0152\n",
      "Epoch 12/50\n",
      "26280/26280 [==============================] - 4s 155us/step - loss: 0.0137 - val_loss: 0.0154\n",
      "Epoch 13/50\n",
      "26280/26280 [==============================] - 3s 112us/step - loss: 0.0137 - val_loss: 0.0154\n",
      "Epoch 14/50\n",
      "26280/26280 [==============================] - 3s 115us/step - loss: 0.0137 - val_loss: 0.0154\n",
      "Epoch 15/50\n",
      "26280/26280 [==============================] - 3s 112us/step - loss: 0.0137 - val_loss: 0.0150\n",
      "Epoch 16/50\n",
      "26280/26280 [==============================] - 3s 115us/step - loss: 0.0137 - val_loss: 0.0148\n",
      "Epoch 17/50\n",
      "26280/26280 [==============================] - 3s 113us/step - loss: 0.0136 - val_loss: 0.0147\n",
      "Epoch 18/50\n",
      "26280/26280 [==============================] - 3s 113us/step - loss: 0.0137 - val_loss: 0.0146\n",
      "Epoch 19/50\n",
      "26280/26280 [==============================] - 4s 139us/step - loss: 0.0136 - val_loss: 0.0145\n",
      "Epoch 20/50\n",
      "26280/26280 [==============================] - 2s 83us/step - loss: 0.0137 - val_loss: 0.0148\n",
      "Epoch 21/50\n",
      "26280/26280 [==============================] - 3s 107us/step - loss: 0.0136 - val_loss: 0.0147\n",
      "Epoch 22/50\n",
      "26280/26280 [==============================] - 3s 102us/step - loss: 0.0137 - val_loss: 0.0148\n",
      "Epoch 23/50\n",
      "26280/26280 [==============================] - 4s 137us/step - loss: 0.0136 - val_loss: 0.0148\n",
      "Epoch 24/50\n",
      "26280/26280 [==============================] - 3s 118us/step - loss: 0.0136 - val_loss: 0.0142\n",
      "Epoch 25/50\n",
      "26280/26280 [==============================] - 4s 165us/step - loss: 0.0137 - val_loss: 0.0143\n",
      "Epoch 26/50\n",
      "26280/26280 [==============================] - 4s 161us/step - loss: 0.0136 - val_loss: 0.0144\n",
      "Epoch 27/50\n",
      "26280/26280 [==============================] - 4s 164us/step - loss: 0.0136 - val_loss: 0.0143\n",
      "Epoch 28/50\n",
      "26280/26280 [==============================] - 3s 125us/step - loss: 0.0136 - val_loss: 0.0140\n",
      "Epoch 29/50\n",
      "26280/26280 [==============================] - 4s 142us/step - loss: 0.0135 - val_loss: 0.0140\n",
      "Epoch 30/50\n",
      "26280/26280 [==============================] - 4s 149us/step - loss: 0.0136 - val_loss: 0.0141\n",
      "Epoch 31/50\n",
      "26280/26280 [==============================] - 2s 93us/step - loss: 0.0136 - val_loss: 0.0139\n",
      "Epoch 32/50\n",
      "26280/26280 [==============================] - 2s 88us/step - loss: 0.0136 - val_loss: 0.0140\n",
      "Epoch 33/50\n",
      "26280/26280 [==============================] - 3s 100us/step - loss: 0.0135 - val_loss: 0.0138\n",
      "Epoch 34/50\n",
      "26280/26280 [==============================] - 4s 143us/step - loss: 0.0136 - val_loss: 0.0139\n",
      "Epoch 35/50\n",
      "26280/26280 [==============================] - 5s 174us/step - loss: 0.0136 - val_loss: 0.0140\n",
      "Epoch 36/50\n",
      "26280/26280 [==============================] - 3s 127us/step - loss: 0.0136 - val_loss: 0.0137\n",
      "Epoch 37/50\n",
      "26280/26280 [==============================] - 3s 130us/step - loss: 0.0135 - val_loss: 0.0138\n",
      "Epoch 38/50\n",
      "26280/26280 [==============================] - 3s 116us/step - loss: 0.0135 - val_loss: 0.0138\n",
      "Epoch 39/50\n",
      "26280/26280 [==============================] - 3s 128us/step - loss: 0.0135 - val_loss: 0.0137\n",
      "Epoch 40/50\n",
      "26280/26280 [==============================] - 4s 134us/step - loss: 0.0135 - val_loss: 0.0136\n",
      "Epoch 41/50\n",
      "26280/26280 [==============================] - 3s 130us/step - loss: 0.0135 - val_loss: 0.0137\n",
      "Epoch 42/50\n",
      "26280/26280 [==============================] - 3s 129us/step - loss: 0.0135 - val_loss: 0.0137\n",
      "Epoch 43/50\n",
      "26280/26280 [==============================] - 4s 135us/step - loss: 0.0135 - val_loss: 0.0137\n",
      "Epoch 44/50\n",
      "26280/26280 [==============================] - 3s 106us/step - loss: 0.0136 - val_loss: 0.0136\n",
      "Epoch 45/50\n",
      "26280/26280 [==============================] - 3s 99us/step - loss: 0.0135 - val_loss: 0.0137\n",
      "Epoch 46/50\n",
      "26280/26280 [==============================] - 3s 121us/step - loss: 0.0135 - val_loss: 0.0137\n",
      "Epoch 47/50\n",
      "26280/26280 [==============================] - 3s 121us/step - loss: 0.0136 - val_loss: 0.0138\n",
      "Epoch 48/50\n",
      "26280/26280 [==============================] - 3s 127us/step - loss: 0.0135 - val_loss: 0.0137\n",
      "Epoch 49/50\n",
      "26280/26280 [==============================] - 3s 130us/step - loss: 0.0135 - val_loss: 0.0136\n",
      "Epoch 50/50\n",
      "26280/26280 [==============================] - 3s 131us/step - loss: 0.0135 - val_loss: 0.0137\n"
     ]
    },
    {
     "data": {
      "application/javascript": [
       "$(document).ready(\n",
       "    function() {\n",
       "        function appendUniqueDiv(){\n",
       "            // append a div with our uuid so we can check that it's already\n",
       "            // been sent and avoid duplicates on page reload\n",
       "            var notifiedDiv = document.createElement(\"div\")\n",
       "            notifiedDiv.id = \"38133f67-ccb1-4d60-87fa-0a1f90bfa87a\"\n",
       "            element.append(notifiedDiv)\n",
       "        }\n",
       "\n",
       "        // only send notifications if the pageload is complete; this will\n",
       "        // help stop extra notifications when a saved notebook is loaded,\n",
       "        // which during testing gives us state \"interactive\", not \"complete\"\n",
       "        if (document.readyState === 'complete') {\n",
       "            // check for the div that signifies that the notification\n",
       "            // was already sent\n",
       "            if (document.getElementById(\"38133f67-ccb1-4d60-87fa-0a1f90bfa87a\") === null) {\n",
       "                var notificationPayload = {\"requireInteraction\": false, \"icon\": \"/static/base/images/favicon.ico\", \"body\": \"Cell execution has finished!\"};\n",
       "                if (Notification.permission !== 'denied') {\n",
       "                    if (Notification.permission !== 'granted') { \n",
       "                        Notification.requestPermission(function (permission) {\n",
       "                            if(!('permission' in Notification)) {\n",
       "                                Notification.permission = permission\n",
       "                            }\n",
       "                        })\n",
       "                    }\n",
       "                    if (Notification.permission === 'granted') {\n",
       "                    var notification = new Notification(\"Jupyter Notebook\", notificationPayload)\n",
       "                    appendUniqueDiv()\n",
       "                    notification.onclick = function () {\n",
       "                        window.focus();\n",
       "                        this.close();\n",
       "                        };\n",
       "                    } \n",
       "                }     \n",
       "            }\n",
       "        }\n",
       "    }\n",
       ")\n"
      ],
      "text/plain": [
       "<IPython.core.display.Javascript object>"
      ]
     },
     "metadata": {},
     "output_type": "display_data"
    }
   ],
   "source": [
    "%%notify\n",
    "# design network\n",
    "model = Sequential()\n",
    "model.add(LSTM(50, input_shape=(train_X.shape[1], train_X.shape[2])))\n",
    "model.add(Dense(1))\n",
    "model.compile(loss='mae', optimizer='adam')\n",
    "\n",
    "# fit network\n",
    "history = model.fit(train_X, train_y, epochs=50, batch_size=72, validation_data=(test_X, test_y), verbose=1, shuffle=False)"
   ]
  },
  {
   "cell_type": "code",
   "execution_count": 12,
   "metadata": {},
   "outputs": [
    {
     "data": {
      "image/png": "[encoded data removed]",
      "text/plain": [
       "<matplotlib.figure.Figure at 0x1a2d0e8b38>"
      ]
     },
     "metadata": {},
     "output_type": "display_data"
    }
   ],
   "source": [
    "# plot history\n",
    "pyplot.plot(history.history['loss'], label='train')\n",
    "pyplot.plot(history.history['val_loss'], label='test')\n",
    "pyplot.legend()\n",
    "pyplot.show()\n"
   ]
  },
  {
   "cell_type": "code",
   "execution_count": 13,
   "metadata": {},
   "outputs": [],
   "source": [
    "# make a prediction\n",
    "yhat = model.predict(test_X)\n",
    "test_X = test_X.reshape((test_X.shape[0], test_X.shape[2]))\n"
   ]
  },
  {
   "cell_type": "code",
   "execution_count": 14,
   "metadata": {},
   "outputs": [],
   "source": [
    "# invert scaling for forecast\n",
    "inv_yhat = concatenate((yhat, test_X[:, 1:]), axis=1)\n",
    "inv_yhat = scaler.inverse_transform(inv_yhat)\n",
    "inv_yhat = inv_yhat[:,0]\n"
   ]
  },
  {
   "cell_type": "code",
   "execution_count": 15,
   "metadata": {},
   "outputs": [],
   "source": [
    "# invert scaling for actual\n",
    "test_y = test_y.reshape((len(test_y), 1))\n",
    "inv_y = concatenate((test_y, test_X[:, 1:]), axis=1)\n",
    "inv_y = scaler.inverse_transform(inv_y)\n",
    "inv_y = inv_y[:,0]\n"
   ]
  },
  {
   "cell_type": "code",
   "execution_count": 16,
   "metadata": {},
   "outputs": [
    {
     "name": "stdout",
     "output_type": "stream",
     "text": [
      "Test RMSE: 26.730\n"
     ]
    }
   ],
   "source": [
    "# calculate RMSE\n",
    "rmse = sqrt(mean_squared_error(inv_y, inv_yhat))\n",
    "print('Test RMSE: %.3f' % rmse)\n"
   ]
  },
  {
   "cell_type": "code",
   "execution_count": null,
   "metadata": {},
   "outputs": [],
   "source": []
  }
 ],
 "metadata": {
  "kernelspec": {
   "display_name": "Python 3",
   "language": "python",
   "name": "python3"
  },
  "language_info": {
   "codemirror_mode": {
    "name": "ipython",
    "version": 3
   },
   "file_extension": ".py",
   "mimetype": "text/x-python",
   "name": "python",
   "nbconvert_exporter": "python",
   "pygments_lexer": "ipython3",
   "version": "3.6.3"
  }
 },
 "nbformat": 4,
 "nbformat_minor": 2
}
